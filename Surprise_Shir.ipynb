{
  "nbformat": 4,
  "nbformat_minor": 0,
  "metadata": {
    "colab": {
      "provenance": [],
      "authorship_tag": "ABX9TyOT9Z0NgAtFqhLU0Vz1QZg3",
      "include_colab_link": true
    },
    "kernelspec": {
      "name": "python3",
      "display_name": "Python 3"
    },
    "language_info": {
      "name": "python"
    }
  },
  "cells": [
    {
      "cell_type": "markdown",
      "metadata": {
        "id": "view-in-github",
        "colab_type": "text"
      },
      "source": [
        "<a href=\"https://colab.research.google.com/github/Denis-Fa/Surpris/blob/main/Surprise_Shir.ipynb\" target=\"_parent\"><img src=\"https://colab.research.google.com/assets/colab-badge.svg\" alt=\"Open In Colab\"/></a>"
      ]
    },
    {
      "cell_type": "code",
      "execution_count": null,
      "metadata": {
        "id": "Luy-dunJrh6z",
        "colab": {
          "base_uri": "https://localhost:8080/"
        },
        "outputId": "5586bc21-3d11-4660-8fcc-421b3f54ead3"
      },
      "outputs": [
        {
          "output_type": "stream",
          "name": "stdout",
          "text": [
            "Collecting scikit-surprise\n",
            "  Downloading scikit-surprise-1.1.3.tar.gz (771 kB)\n",
            "\u001b[?25l     \u001b[90m━━━━━━━━━━━━━━━━━━━━━━━━━━━━━━━━━━━━━━━━\u001b[0m \u001b[32m0.0/772.0 kB\u001b[0m \u001b[31m?\u001b[0m eta \u001b[36m-:--:--\u001b[0m\r\u001b[2K     \u001b[91m━━━━━━━━━━━━━━\u001b[0m\u001b[91m╸\u001b[0m\u001b[90m━━━━━━━━━━━━━━━━━━━━━━━━━\u001b[0m \u001b[32m286.7/772.0 kB\u001b[0m \u001b[31m8.3 MB/s\u001b[0m eta \u001b[36m0:00:01\u001b[0m\r\u001b[2K     \u001b[90m━━━━━━━━━━━━━━━━━━━━━━━━━━━━━━━━━━━━━━━━\u001b[0m \u001b[32m772.0/772.0 kB\u001b[0m \u001b[31m11.4 MB/s\u001b[0m eta \u001b[36m0:00:00\u001b[0m\n",
            "\u001b[?25h  Preparing metadata (setup.py) ... \u001b[?25l\u001b[?25hdone\n",
            "Requirement already satisfied: joblib>=1.0.0 in /usr/local/lib/python3.10/dist-packages (from scikit-surprise) (1.3.2)\n",
            "Requirement already satisfied: numpy>=1.17.3 in /usr/local/lib/python3.10/dist-packages (from scikit-surprise) (1.23.5)\n",
            "Requirement already satisfied: scipy>=1.3.2 in /usr/local/lib/python3.10/dist-packages (from scikit-surprise) (1.11.4)\n",
            "Building wheels for collected packages: scikit-surprise\n",
            "  Building wheel for scikit-surprise (setup.py) ... \u001b[?25l\u001b[?25hdone\n",
            "  Created wheel for scikit-surprise: filename=scikit_surprise-1.1.3-cp310-cp310-linux_x86_64.whl size=3162653 sha256=22ba750104b1134f67383fb9921ddedaf03fca9b82057b5ca27ea79ffd927973\n",
            "  Stored in directory: /root/.cache/pip/wheels/a5/ca/a8/4e28def53797fdc4363ca4af740db15a9c2f1595ebc51fb445\n",
            "Successfully built scikit-surprise\n",
            "Installing collected packages: scikit-surprise\n",
            "Successfully installed scikit-surprise-1.1.3\n"
          ]
        }
      ],
      "source": [
        "pip install scikit-surprise\n"
      ]
    },
    {
      "cell_type": "markdown",
      "source": [
        "Шаг 1: Импорт необходимых библиотек.\n",
        "Для начала импортируем необходимые библиотеки, включая Surprise для создания и обучения модели рекомендательной системы."
      ],
      "metadata": {
        "id": "mzdTXa4U1m5X"
      }
    },
    {
      "cell_type": "code",
      "source": [
        "import random\n",
        "import pandas as pd\n",
        "from surprise import Dataset, Reader, SVD\n",
        "from surprise.model_selection import train_test_split\n",
        "from surprise import accuracy\n",
        "\n",
        "from collections import defaultdict\n",
        "from surprise import Dataset, SVD\n",
        "\n",
        "from surprise.model_selection import GridSearchCV\n"
      ],
      "metadata": {
        "id": "Mtzkcmuc1lPI"
      },
      "execution_count": 24,
      "outputs": []
    },
    {
      "cell_type": "markdown",
      "source": [
        "Шаг 2: Создание собственного датасета.\n",
        "Cоздадим собственный датасет, который будет содержать информацию о пользователях, товарах и их оценках. В этом примере мы создадим случайные данные для пользователей и товаров."
      ],
      "metadata": {
        "id": "wAl0rqdN13GJ"
      }
    },
    {
      "cell_type": "code",
      "source": [
        "# Создаем список пользователей и инструментов\n",
        "users = [str(i) for i in range(1, 101)]\n",
        "tools = [str(i) for i in range(1, 201)]\n",
        "\n",
        "# Генерируем случайные оценки пользователей для инструментов\n",
        "data = []\n",
        "for user in users:\n",
        "    for tool in tools:\n",
        "        rating = random.randint(1, 5)\n",
        "        data.append([user, tool, rating])\n",
        "\n",
        "# Создаем DataFrame из данных\n",
        "df = pd.DataFrame(data, columns=['user_id', 'tool_id', 'rating'])\n",
        "\n",
        "# Создаем объект Reader для определения формата данных\n",
        "reader = Reader(rating_scale=(1, 5))\n",
        "\n",
        "# Создаем датасет из DataFrame и объекта Reader\n",
        "dataset = Dataset.load_from_df(df[['user_id', 'tool_id', 'rating']], reader)"
      ],
      "metadata": {
        "id": "B6j8I05G2Dyc"
      },
      "execution_count": 25,
      "outputs": []
    },
    {
      "cell_type": "markdown",
      "source": [
        "Шаг 3: Разделение данных на обучающий и тестовый наборы.\n",
        "Для оценки производительности модели разделим данные на обучающий и тестовый наборы."
      ],
      "metadata": {
        "id": "kpcYAZuG2fZX"
      }
    },
    {
      "cell_type": "code",
      "source": [
        "trainset, testset = train_test_split(dataset, test_size=0.2, random_state=42)\n"
      ],
      "metadata": {
        "id": "fNuITGQ72hSb"
      },
      "execution_count": 26,
      "outputs": []
    },
    {
      "cell_type": "markdown",
      "source": [
        "Шаг 4: Создание и обучение модели.\n",
        "Теперь создадим модель рекомендательной системы. В этом примере мы используем модель SVD."
      ],
      "metadata": {
        "id": "Zo5IkNyb2kej"
      }
    },
    {
      "cell_type": "code",
      "source": [
        "model = SVD()\n",
        "model.fit(trainset)"
      ],
      "metadata": {
        "colab": {
          "base_uri": "https://localhost:8080/"
        },
        "id": "EOpO4_i62nMK",
        "outputId": "3facc10f-a5f9-4327-8e24-227921af10aa"
      },
      "execution_count": 27,
      "outputs": [
        {
          "output_type": "execute_result",
          "data": {
            "text/plain": [
              "<surprise.prediction_algorithms.matrix_factorization.SVD at 0x7eb7b7d3cc10>"
            ]
          },
          "metadata": {},
          "execution_count": 27
        }
      ]
    },
    {
      "cell_type": "markdown",
      "source": [
        "Шаг 5: Получение прогнозов и оценка производительности модели.\n",
        "Мы получим прогнозы на тестовом наборе и оценим производительность модели."
      ],
      "metadata": {
        "id": "28LeCJaB2qp4"
      }
    },
    {
      "cell_type": "code",
      "source": [
        "predictions = model.test(testset)\n",
        "\n",
        "mae = accuracy.mae(predictions)\n",
        "rmse = accuracy.rmse(predictions)\n",
        "\n",
        "print(f'MAE: {mae}')\n",
        "print(f'RMSE: {rmse}')"
      ],
      "metadata": {
        "colab": {
          "base_uri": "https://localhost:8080/"
        },
        "id": "K18kSSXT2uM8",
        "outputId": "0b37c683-4e6f-4803-a279-74cf6d322175"
      },
      "execution_count": 28,
      "outputs": [
        {
          "output_type": "stream",
          "name": "stdout",
          "text": [
            "MAE:  1.2792\n",
            "RMSE: 1.4929\n",
            "MAE: 1.2792415852971248\n",
            "RMSE: 1.4929336230772479\n"
          ]
        }
      ]
    },
    {
      "cell_type": "markdown",
      "source": [
        "Шаг 6: Получение рекомендаций для конкретного пользователя.\n",
        "Теперь мы можем получить персонализированные рекомендации для конкретного пользователя. Для этого выберем случайного пользователя и получим рекомендации."
      ],
      "metadata": {
        "id": "dDwyMla42ycF"
      }
    },
    {
      "cell_type": "code",
      "source": [
        "# Выбираем случайного пользователя\n",
        "user_id = random.choice(users)\n",
        "\n",
        "from collections import defaultdict\n",
        "\n",
        "from surprise import Dataset, SVD\n",
        "\n",
        "\n",
        "def get_top_n(predictions, n=10):\n",
        "    \"\"\"Возвращает первые N рекомендаций для каждого пользователя из набора прогнозов.\n",
        "\n",
        "     Аргументы:\n",
        "         предсказания (список объектов предсказаний): список предсказаний, как\n",
        "             возвращается тестовым методом алгоритма.\n",
        "         n(int): количество рекомендаций для вывода для каждого пользователя. По умолчанию\n",
        "             это 10.\n",
        "\n",
        "     Возврат:\n",
        "     Словарь, в котором ключи представляют собой идентификаторы пользователей (необработанные), а значения представляют собой списки кортежей:\n",
        "         [(raw item id, rating estimation), ...] of size n.\n",
        "    \"\"\"\n",
        "\n",
        "    # Сначала сопоставим прогнозы с каждым пользователем..\n",
        "    top_n = defaultdict(list)\n",
        "    for uid, iid, true_r, est, _ in predictions:\n",
        "        top_n[uid].append((iid, est))\n",
        "\n",
        "    # Затем отсортируем прогнозы для каждого пользователя и извлечем k самых высоких.\n",
        "    for uid, user_ratings in top_n.items():\n",
        "        user_ratings.sort(key=lambda x: x[1], reverse=True)\n",
        "        top_n[uid] = user_ratings[:n]\n",
        "\n",
        "    return top_n\n",
        "\n",
        "# Получаем топ N рекомендаций для пользователя\n",
        "top_n = get_top_n(predictions, n=10)\n",
        "\n",
        "print(f\"Рекомендации инструментов для пользователя {user_id}:\")\n",
        "for tool_id, rating in top_n[user_id]:\n",
        "    print(f\"Инструмент ID: {tool_id}, Рейтинг: {rating}\")\n"
      ],
      "metadata": {
        "colab": {
          "base_uri": "https://localhost:8080/"
        },
        "id": "AnysfdHA22Lh",
        "outputId": "0d04062b-4253-4953-c5fb-5d8124180842"
      },
      "execution_count": 29,
      "outputs": [
        {
          "output_type": "stream",
          "name": "stdout",
          "text": [
            "Рекомендации инструментов для пользователя 63:\n",
            "Инструмент ID: 98, Рейтинг: 3.750330925893036\n",
            "Инструмент ID: 14, Рейтинг: 3.5820111797788385\n",
            "Инструмент ID: 65, Рейтинг: 3.552820662445498\n",
            "Инструмент ID: 53, Рейтинг: 3.4700643732860614\n",
            "Инструмент ID: 19, Рейтинг: 3.4254137210040354\n",
            "Инструмент ID: 16, Рейтинг: 3.2652963495508196\n",
            "Инструмент ID: 109, Рейтинг: 3.1282114151994183\n",
            "Инструмент ID: 69, Рейтинг: 3.086603066231927\n",
            "Инструмент ID: 25, Рейтинг: 3.015096633850045\n",
            "Инструмент ID: 50, Рейтинг: 2.972152317106171\n"
          ]
        }
      ]
    },
    {
      "cell_type": "markdown",
      "source": [
        "Шаг 7: Настройка параметров модели.\n",
        "Для настройки параметров модели, мы можем использовать методы подбора гиперпараметров, такие как GridSearchCV из scikit-learn."
      ],
      "metadata": {
        "id": "KvkTiE653M1J"
      }
    },
    {
      "cell_type": "code",
      "source": [
        "# Создаем объект модели SVD\n",
        "model = SVD()\n",
        "\n",
        "param_grid = {'n_factors': [50, 100, 150],\n",
        "              'n_epochs': [20, 30, 40],\n",
        "              'lr_all': [0.002, 0.005, 0.01],\n",
        "              'reg_all': [0.02, 0.04, 0.06]}\n",
        "\n",
        "# Используем GridSearchCV для подбора параметров\n",
        "grid_search = GridSearchCV(SVD,\n",
        "                           param_grid=param_grid,\n",
        "                           measures=['rmse'],\n",
        "                           cv=5)\n",
        "\n",
        "# Выполняем GridSearchCV\n",
        "grid_search.fit(dataset)\n",
        "\n",
        "# Получаем наилучшие параметры\n",
        "best_params = grid_search.best_params['rmse']\n",
        "print(f'Наилучшие параметры: {best_params}')\n",
        "\n",
        "# Создаем объект модели SVD с наилучшими параметрами\n",
        "model = SVD(n_factors=best_params['n_factors'],\n",
        "            n_epochs=best_params['n_epochs'],\n",
        "            lr_all=best_params['lr_all'],\n",
        "            reg_all=best_params['reg_all'])\n",
        "\n",
        "# Обучаем модель с наилучшими параметрами\n",
        "model.fit(trainset)\n",
        "\n",
        "# Делаем предсказания на тестовом наборе\n",
        "predictions = model.test(testset)\n",
        "\n",
        "# Вычисляем показатели производительности\n",
        "mae = accuracy.mae(predictions)\n",
        "rmse = accuracy.rmse(predictions)\n",
        "\n",
        "print(f'MAE: {mae}')\n",
        "print(f'RMSE: {rmse}')\n"
      ],
      "metadata": {
        "colab": {
          "base_uri": "https://localhost:8080/"
        },
        "id": "VBZbzQjR3QO2",
        "outputId": "c6e12aef-0d0f-4a1b-b989-375f0a260227"
      },
      "execution_count": 30,
      "outputs": [
        {
          "output_type": "stream",
          "name": "stdout",
          "text": [
            "Наилучшие параметры: {'n_factors': 50, 'n_epochs': 20, 'lr_all': 0.002, 'reg_all': 0.06}\n",
            "MAE:  1.2316\n",
            "RMSE: 1.4282\n",
            "MAE: 1.2316199208891434\n",
            "RMSE: 1.428208494700999\n"
          ]
        }
      ]
    },
    {
      "cell_type": "markdown",
      "source": [
        "Шаг 8: Интеграция в магазин инструментов.\n",
        "Чтобы интегрировать рекомендательную систему в магазин, мы можем создать функцию, которая будет предоставлять рекомендации на основе предпочтений пользователя. Это может быть вызвано на странице пользователя или странице инструмента."
      ],
      "metadata": {
        "id": "e6uQLCWoBATR"
      }
    },
    {
      "cell_type": "code",
      "source": [
        "def get_top_n(predictions, user_id, n=10):\n",
        "    \"\"\"Получение топ-N рекомендаций для пользователя\"\"\"\n",
        "    top_n = defaultdict(list)\n",
        "    for uid, iid, _, est, _ in predictions:\n",
        "        if uid == user_id:\n",
        "            top_n[uid].append((iid, est))\n",
        "\n",
        "    for uid, user_ratings in top_n.items():\n",
        "        user_ratings.sort(key=lambda x: x[1], reverse=True)\n",
        "        top_n[uid] = user_ratings[:n]\n",
        "\n",
        "    return top_n[user_id]\n",
        "\n",
        "# Использование функции в магазине\n",
        "user_id = '42'\n",
        "recommended_toolss = get_top_n(predictions, user_id)\n"
      ],
      "metadata": {
        "id": "Gfo3rN-a3b06"
      },
      "execution_count": 31,
      "outputs": []
    },
    {
      "cell_type": "markdown",
      "source": [
        "Для интеграции модели рекомендательной системы с веб-приложением на Java понадобится выполнить следующий шаг:\n",
        "\n",
        " Экспортирую обученную модель, созданную в коде Python, в файл (например, в формате pickle), чтобы ее можно было загрузить и использовать в Java. Для этого использую модуль pickle в Python:"
      ],
      "metadata": {
        "id": "UGbWhUiWiPUl"
      }
    },
    {
      "cell_type": "code",
      "source": [
        "import pickle\n",
        "\n",
        "# Сохранение обученной модели в файл\n",
        "\n",
        "with open('model_surprise.pkl', 'wb') as file:\n",
        "    pickle.dump(model, file)\n",
        "\n"
      ],
      "metadata": {
        "id": "dSGCul8OicTf"
      },
      "execution_count": 32,
      "outputs": []
    },
    {
      "cell_type": "markdown",
      "source": [
        "Скачаем на ПК модель"
      ],
      "metadata": {
        "id": "oeT8ZqP1GgQv"
      }
    }
  ]
}