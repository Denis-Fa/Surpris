{
  "nbformat": 4,
  "nbformat_minor": 0,
  "metadata": {
    "colab": {
      "provenance": [],
      "authorship_tag": "ABX9TyO1L/8UwFlZkZglyVFgsdb2",
      "include_colab_link": true
    },
    "kernelspec": {
      "name": "python3",
      "display_name": "Python 3"
    },
    "language_info": {
      "name": "python"
    }
  },
  "cells": [
    {
      "cell_type": "markdown",
      "metadata": {
        "id": "view-in-github",
        "colab_type": "text"
      },
      "source": [
        "<a href=\"https://colab.research.google.com/github/Denis-Fa/Surpris/blob/main/Surprise_Shir.ipynb\" target=\"_parent\"><img src=\"https://colab.research.google.com/assets/colab-badge.svg\" alt=\"Open In Colab\"/></a>"
      ]
    },
    {
      "cell_type": "code",
      "execution_count": 3,
      "metadata": {
        "id": "Luy-dunJrh6z",
        "colab": {
          "base_uri": "https://localhost:8080/"
        },
        "outputId": "5586bc21-3d11-4660-8fcc-421b3f54ead3"
      },
      "outputs": [
        {
          "output_type": "stream",
          "name": "stdout",
          "text": [
            "Collecting scikit-surprise\n",
            "  Downloading scikit-surprise-1.1.3.tar.gz (771 kB)\n",
            "\u001b[?25l     \u001b[90m━━━━━━━━━━━━━━━━━━━━━━━━━━━━━━━━━━━━━━━━\u001b[0m \u001b[32m0.0/772.0 kB\u001b[0m \u001b[31m?\u001b[0m eta \u001b[36m-:--:--\u001b[0m\r\u001b[2K     \u001b[91m━━━━━━━━━━━━━━\u001b[0m\u001b[91m╸\u001b[0m\u001b[90m━━━━━━━━━━━━━━━━━━━━━━━━━\u001b[0m \u001b[32m286.7/772.0 kB\u001b[0m \u001b[31m8.3 MB/s\u001b[0m eta \u001b[36m0:00:01\u001b[0m\r\u001b[2K     \u001b[90m━━━━━━━━━━━━━━━━━━━━━━━━━━━━━━━━━━━━━━━━\u001b[0m \u001b[32m772.0/772.0 kB\u001b[0m \u001b[31m11.4 MB/s\u001b[0m eta \u001b[36m0:00:00\u001b[0m\n",
            "\u001b[?25h  Preparing metadata (setup.py) ... \u001b[?25l\u001b[?25hdone\n",
            "Requirement already satisfied: joblib>=1.0.0 in /usr/local/lib/python3.10/dist-packages (from scikit-surprise) (1.3.2)\n",
            "Requirement already satisfied: numpy>=1.17.3 in /usr/local/lib/python3.10/dist-packages (from scikit-surprise) (1.23.5)\n",
            "Requirement already satisfied: scipy>=1.3.2 in /usr/local/lib/python3.10/dist-packages (from scikit-surprise) (1.11.4)\n",
            "Building wheels for collected packages: scikit-surprise\n",
            "  Building wheel for scikit-surprise (setup.py) ... \u001b[?25l\u001b[?25hdone\n",
            "  Created wheel for scikit-surprise: filename=scikit_surprise-1.1.3-cp310-cp310-linux_x86_64.whl size=3162653 sha256=22ba750104b1134f67383fb9921ddedaf03fca9b82057b5ca27ea79ffd927973\n",
            "  Stored in directory: /root/.cache/pip/wheels/a5/ca/a8/4e28def53797fdc4363ca4af740db15a9c2f1595ebc51fb445\n",
            "Successfully built scikit-surprise\n",
            "Installing collected packages: scikit-surprise\n",
            "Successfully installed scikit-surprise-1.1.3\n"
          ]
        }
      ],
      "source": [
        "pip install scikit-surprise\n"
      ]
    },
    {
      "cell_type": "markdown",
      "source": [
        "Шаг 1: Импорт необходимых библиотек.\n",
        "Для начала импортируем необходимые библиотеки, включая Surprise для создания и обучения модели рекомендательной системы."
      ],
      "metadata": {
        "id": "mzdTXa4U1m5X"
      }
    },
    {
      "cell_type": "code",
      "source": [
        "import random\n",
        "import pandas as pd\n",
        "from surprise import Dataset, Reader, SVD\n",
        "from surprise.model_selection import train_test_split\n",
        "from surprise import accuracy\n",
        "\n",
        "from collections import defaultdict\n",
        "from surprise import Dataset, SVD\n",
        "\n",
        "from surprise.model_selection import GridSearchCV\n"
      ],
      "metadata": {
        "id": "Mtzkcmuc1lPI"
      },
      "execution_count": 14,
      "outputs": []
    },
    {
      "cell_type": "markdown",
      "source": [
        "Шаг 2: Создание собственного датасета.\n",
        "Cоздадим собственный датасет, который будет содержать информацию о пользователях, товарах и их оценках. В этом примере мы создадим случайные данные для пользователей и товаров."
      ],
      "metadata": {
        "id": "wAl0rqdN13GJ"
      }
    },
    {
      "cell_type": "code",
      "source": [
        "# Создаем список пользователей и инструментов\n",
        "users = [str(i) for i in range(1, 101)]\n",
        "tools = [str(i) for i in range(1, 201)]\n",
        "\n",
        "# Генерируем случайные оценки пользователей для инструментов\n",
        "data = []\n",
        "for user in users:\n",
        "    for tool in tools:\n",
        "        rating = random.randint(1, 5)\n",
        "        data.append([user, tool, rating])\n",
        "\n",
        "# Создаем DataFrame из данных\n",
        "df = pd.DataFrame(data, columns=['user_id', 'tool_id', 'rating'])\n",
        "\n",
        "# Создаем объект Reader для определения формата данных\n",
        "reader = Reader(rating_scale=(1, 5))\n",
        "\n",
        "# Создаем датасет из DataFrame и объекта Reader\n",
        "dataset = Dataset.load_from_df(df[['user_id', 'tool_id', 'rating']], reader)"
      ],
      "metadata": {
        "id": "B6j8I05G2Dyc"
      },
      "execution_count": 15,
      "outputs": []
    },
    {
      "cell_type": "markdown",
      "source": [
        "Шаг 3: Разделение данных на обучающий и тестовый наборы.\n",
        "Для оценки производительности модели разделим данные на обучающий и тестовый наборы."
      ],
      "metadata": {
        "id": "kpcYAZuG2fZX"
      }
    },
    {
      "cell_type": "code",
      "source": [
        "trainset, testset = train_test_split(dataset, test_size=0.2, random_state=42)\n"
      ],
      "metadata": {
        "id": "fNuITGQ72hSb"
      },
      "execution_count": 16,
      "outputs": []
    },
    {
      "cell_type": "markdown",
      "source": [
        "Шаг 4: Создание и обучение модели.\n",
        "Теперь создадим модель рекомендательной системы. В этом примере мы используем модель SVD."
      ],
      "metadata": {
        "id": "Zo5IkNyb2kej"
      }
    },
    {
      "cell_type": "code",
      "source": [
        "model = SVD()\n",
        "model.fit(trainset)"
      ],
      "metadata": {
        "colab": {
          "base_uri": "https://localhost:8080/"
        },
        "id": "EOpO4_i62nMK",
        "outputId": "2d10558b-ba3d-4e32-b03d-df094f6b361d"
      },
      "execution_count": 17,
      "outputs": [
        {
          "output_type": "execute_result",
          "data": {
            "text/plain": [
              "<surprise.prediction_algorithms.matrix_factorization.SVD at 0x7eb7e6d5ee60>"
            ]
          },
          "metadata": {},
          "execution_count": 17
        }
      ]
    },
    {
      "cell_type": "markdown",
      "source": [
        "Шаг 5: Получение прогнозов и оценка производительности модели.\n",
        "Мы получим прогнозы на тестовом наборе и оценим производительность модели."
      ],
      "metadata": {
        "id": "28LeCJaB2qp4"
      }
    },
    {
      "cell_type": "code",
      "source": [
        "predictions = model.test(testset)\n",
        "\n",
        "mae = accuracy.mae(predictions)\n",
        "rmse = accuracy.rmse(predictions)\n",
        "\n",
        "print(f'MAE: {mae}')\n",
        "print(f'RMSE: {rmse}')"
      ],
      "metadata": {
        "colab": {
          "base_uri": "https://localhost:8080/"
        },
        "id": "K18kSSXT2uM8",
        "outputId": "9dbedd9d-0211-49d1-ce42-5b9c4f9f6ad8"
      },
      "execution_count": 18,
      "outputs": [
        {
          "output_type": "stream",
          "name": "stdout",
          "text": [
            "MAE:  1.3005\n",
            "RMSE: 1.5113\n",
            "MAE: 1.3004906071725624\n",
            "RMSE: 1.511287786137938\n"
          ]
        }
      ]
    },
    {
      "cell_type": "markdown",
      "source": [
        "Шаг 6: Получение рекомендаций для конкретного пользователя.\n",
        "Теперь мы можем получить персонализированные рекомендации для конкретного пользователя. Для этого выберем случайного пользователя и получим рекомендации."
      ],
      "metadata": {
        "id": "dDwyMla42ycF"
      }
    },
    {
      "cell_type": "code",
      "source": [
        "# Выбираем случайного пользователя\n",
        "user_id = random.choice(users)\n",
        "\n",
        "from collections import defaultdict\n",
        "\n",
        "from surprise import Dataset, SVD\n",
        "\n",
        "\n",
        "def get_top_n(predictions, n=10):\n",
        "    \"\"\"Возвращает первые N рекомендаций для каждого пользователя из набора прогнозов.\n",
        "\n",
        "     Аргументы:\n",
        "         предсказания (список объектов предсказаний): список предсказаний, как\n",
        "             возвращается тестовым методом алгоритма.\n",
        "         n(int): количество рекомендаций для вывода для каждого пользователя. По умолчанию\n",
        "             это 10.\n",
        "\n",
        "     Возврат:\n",
        "     Словарь, в котором ключи представляют собой идентификаторы пользователей (необработанные), а значения представляют собой списки кортежей:\n",
        "         [(raw item id, rating estimation), ...] of size n.\n",
        "    \"\"\"\n",
        "\n",
        "    # Сначала сопоставим прогнозы с каждым пользователем..\n",
        "    top_n = defaultdict(list)\n",
        "    for uid, iid, true_r, est, _ in predictions:\n",
        "        top_n[uid].append((iid, est))\n",
        "\n",
        "    # Затем отсортируем прогнозы для каждого пользователя и извлечем k самых высоких.\n",
        "    for uid, user_ratings in top_n.items():\n",
        "        user_ratings.sort(key=lambda x: x[1], reverse=True)\n",
        "        top_n[uid] = user_ratings[:n]\n",
        "\n",
        "    return top_n\n",
        "\n",
        "# Получаем топ N рекомендаций для пользователя\n",
        "top_n = get_top_n(predictions, n=10)\n",
        "\n",
        "print(f\"Рекомендации инструментов для пользователя {user_id}:\")\n",
        "for tool_id, rating in top_n[user_id]:\n",
        "    print(f\"Инструмент ID: {tool_id}, Рейтинг: {rating}\")\n"
      ],
      "metadata": {
        "colab": {
          "base_uri": "https://localhost:8080/"
        },
        "id": "AnysfdHA22Lh",
        "outputId": "95b0c5df-2d12-4332-f2a7-d401d100a405"
      },
      "execution_count": 19,
      "outputs": [
        {
          "output_type": "stream",
          "name": "stdout",
          "text": [
            "Рекомендации инструментов для пользователя 19:\n",
            "Инструмент ID: 127, Рейтинг: 3.9598301151860493\n",
            "Инструмент ID: 49, Рейтинг: 3.4893362231335656\n",
            "Инструмент ID: 166, Рейтинг: 3.405895269806642\n",
            "Инструмент ID: 45, Рейтинг: 3.3948217376655956\n",
            "Инструмент ID: 151, Рейтинг: 3.35069346554432\n",
            "Инструмент ID: 120, Рейтинг: 3.315634276647964\n",
            "Инструмент ID: 128, Рейтинг: 3.2788707661136804\n",
            "Инструмент ID: 161, Рейтинг: 3.2758382570073046\n",
            "Инструмент ID: 11, Рейтинг: 3.267094503332546\n",
            "Инструмент ID: 7, Рейтинг: 3.2003673960877896\n"
          ]
        }
      ]
    },
    {
      "cell_type": "markdown",
      "source": [
        "Шаг 7: Настройка параметров модели.\n",
        "Для настройки параметров модели, мы можем использовать методы подбора гиперпараметров, такие как GridSearchCV из scikit-learn."
      ],
      "metadata": {
        "id": "KvkTiE653M1J"
      }
    },
    {
      "cell_type": "code",
      "source": [
        "# Создаем объект модели SVD\n",
        "model = SVD()\n",
        "\n",
        "param_grid = {'n_factors': [50, 100, 150],\n",
        "              'n_epochs': [20, 30, 40],\n",
        "              'lr_all': [0.002, 0.005, 0.01],\n",
        "              'reg_all': [0.02, 0.04, 0.06]}\n",
        "\n",
        "# Используем GridSearchCV для подбора параметров\n",
        "grid_search = GridSearchCV(SVD,\n",
        "                           param_grid=param_grid,\n",
        "                           measures=['rmse'],\n",
        "                           cv=5)\n",
        "\n",
        "# Выполняем GridSearchCV\n",
        "grid_search.fit(dataset)\n",
        "\n",
        "# Получаем наилучшие параметры\n",
        "best_params = grid_search.best_params['rmse']\n",
        "print(f'Наилучшие параметры: {best_params}')\n",
        "\n",
        "# Создаем объект модели SVD с наилучшими параметрами\n",
        "model = SVD(n_factors=best_params['n_factors'],\n",
        "            n_epochs=best_params['n_epochs'],\n",
        "            lr_all=best_params['lr_all'],\n",
        "            reg_all=best_params['reg_all'])\n",
        "\n",
        "# Обучаем модель с наилучшими параметрами\n",
        "model.fit(trainset)\n",
        "\n",
        "# Делаем предсказания на тестовом наборе\n",
        "predictions = model.test(testset)\n",
        "\n",
        "# Вычисляем показатели производительности\n",
        "mae = accuracy.mae(predictions)\n",
        "rmse = accuracy.rmse(predictions)\n",
        "\n",
        "print(f'MAE: {mae}')\n",
        "print(f'RMSE: {rmse}')\n"
      ],
      "metadata": {
        "colab": {
          "base_uri": "https://localhost:8080/"
        },
        "id": "VBZbzQjR3QO2",
        "outputId": "d17b913e-a70e-4264-a504-9a6c49950b29"
      },
      "execution_count": 20,
      "outputs": [
        {
          "output_type": "stream",
          "name": "stdout",
          "text": [
            "Наилучшие параметры: {'n_factors': 50, 'n_epochs': 20, 'lr_all': 0.002, 'reg_all': 0.06}\n",
            "MAE:  1.2461\n",
            "RMSE: 1.4387\n",
            "MAE: 1.2461263857028049\n",
            "RMSE: 1.4386798723951855\n"
          ]
        }
      ]
    },
    {
      "cell_type": "markdown",
      "source": [
        "Шаг 8: Интеграция в магазин инструментов.\n",
        "Чтобы интегрировать рекомендательную систему в магазин, мы можем создать функцию, которая будет предоставлять рекомендации на основе предпочтений пользователя. Это может быть вызвано на странице пользователя или странице инструмента."
      ],
      "metadata": {
        "id": "e6uQLCWoBATR"
      }
    },
    {
      "cell_type": "code",
      "source": [
        "def get_top_n(predictions, user_id, n=10):\n",
        "    \"\"\"Получение топ-N рекомендаций для пользователя\"\"\"\n",
        "    top_n = defaultdict(list)\n",
        "    for uid, iid, _, est, _ in predictions:\n",
        "        if uid == user_id:\n",
        "            top_n[uid].append((iid, est))\n",
        "\n",
        "    for uid, user_ratings in top_n.items():\n",
        "        user_ratings.sort(key=lambda x: x[1], reverse=True)\n",
        "        top_n[uid] = user_ratings[:n]\n",
        "\n",
        "    return top_n[user_id]\n",
        "\n",
        "# Использование функции в магазине\n",
        "user_id = '42'\n",
        "recommended_toolss = get_top_n(predictions, user_id)\n"
      ],
      "metadata": {
        "id": "Gfo3rN-a3b06"
      },
      "execution_count": 21,
      "outputs": []
    },
    {
      "cell_type": "markdown",
      "source": [
        "Для интеграции модели рекомендательной системы с веб-приложением на Java понадобится выполнить следующие шаги:\n",
        "\n",
        "1. Экспортирую обученную модель, созданную в коде Python, в файл (например, в формате pickle), чтобы ее можно было загрузить и использовать в Java. Для этого использую модуль pickle в Python:"
      ],
      "metadata": {
        "id": "UGbWhUiWiPUl"
      }
    },
    {
      "cell_type": "code",
      "source": [
        "import pickle\n",
        "\n",
        "# Сохранение обученной модели в файл\n",
        "with open('model.pkl', 'wb') as file:\n",
        "    pickle.dump(model, file)\n"
      ],
      "metadata": {
        "id": "dSGCul8OicTf"
      },
      "execution_count": 22,
      "outputs": []
    }
  ]
}