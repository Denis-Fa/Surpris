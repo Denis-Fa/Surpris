{
  "nbformat": 4,
  "nbformat_minor": 0,
  "metadata": {
    "colab": {
      "provenance": []
    },
    "kernelspec": {
      "name": "python3",
      "display_name": "Python 3"
    },
    "language_info": {
      "name": "python"
    }
  },
  "cells": [
    {
      "cell_type": "code",
      "execution_count": null,
      "metadata": {
        "id": "Luy-dunJrh6z",
        "colab": {
          "base_uri": "https://localhost:8080/"
        },
        "outputId": "6b7a4798-261e-4697-fb22-e8d1972ceb08"
      },
      "outputs": [
        {
          "output_type": "stream",
          "name": "stdout",
          "text": [
            "Collecting scikit-surprise\n",
            "  Using cached scikit-surprise-1.1.3.tar.gz (771 kB)\n",
            "  Preparing metadata (setup.py) ... \u001b[?25l\u001b[?25hdone\n",
            "Requirement already satisfied: joblib>=1.0.0 in /usr/local/lib/python3.10/dist-packages (from scikit-surprise) (1.3.2)\n",
            "Requirement already satisfied: numpy>=1.17.3 in /usr/local/lib/python3.10/dist-packages (from scikit-surprise) (1.23.5)\n",
            "Requirement already satisfied: scipy>=1.3.2 in /usr/local/lib/python3.10/dist-packages (from scikit-surprise) (1.11.4)\n",
            "Building wheels for collected packages: scikit-surprise\n",
            "  Building wheel for scikit-surprise (setup.py) ... \u001b[?25l\u001b[?25hdone\n",
            "  Created wheel for scikit-surprise: filename=scikit_surprise-1.1.3-cp310-cp310-linux_x86_64.whl size=3162674 sha256=822cae9d3a612a3250742ea1eedf65ddd75b1d4571144eac362b50a79dd0472f\n",
            "  Stored in directory: /root/.cache/pip/wheels/a5/ca/a8/4e28def53797fdc4363ca4af740db15a9c2f1595ebc51fb445\n",
            "Successfully built scikit-surprise\n",
            "Installing collected packages: scikit-surprise\n",
            "Successfully installed scikit-surprise-1.1.3\n"
          ]
        }
      ],
      "source": [
        "pip install scikit-surprise\n"
      ]
    },
    {
      "cell_type": "markdown",
      "source": [
        "Шаг 1: Импорт необходимых библиотек\n",
        "Для начала импортируем необходимые библиотеки, включая Surprise для создания и обучения модели рекомендательной системы."
      ],
      "metadata": {
        "id": "mzdTXa4U1m5X"
      }
    },
    {
      "cell_type": "markdown",
      "source": [],
      "metadata": {
        "id": "ouJmuMcU1t45"
      }
    },
    {
      "cell_type": "code",
      "source": [
        "import random\n",
        "import pandas as pd\n",
        "from surprise import Dataset, Reader, SVD\n",
        "from surprise.model_selection import train_test_split\n",
        "from surprise import accuracy\n",
        "\n",
        "from collections import defaultdict\n",
        "from surprise import Dataset, SVD"
      ],
      "metadata": {
        "id": "Mtzkcmuc1lPI"
      },
      "execution_count": null,
      "outputs": []
    },
    {
      "cell_type": "markdown",
      "source": [
        "Шаг 2: Создание собственного датасета\n",
        "Давайте создадим собственный датасет, который будет содержать информацию о пользователях, товарах и их оценках. В этом примере мы создадим случайные данные для пользователей и товаров."
      ],
      "metadata": {
        "id": "wAl0rqdN13GJ"
      }
    },
    {
      "cell_type": "code",
      "source": [
        "# Создаем список пользователей и инструментов\n",
        "users = [str(i) for i in range(1, 101)]\n",
        "tools = [str(i) for i in range(1, 201)]\n",
        "\n",
        "# Генерируем случайные оценки пользователей для инструментов\n",
        "data = []\n",
        "for user in users:\n",
        "    for tool in tools:\n",
        "        rating = random.randint(1, 5)\n",
        "        data.append([user, tool, rating])\n",
        "\n",
        "# Создаем DataFrame из данных\n",
        "df = pd.DataFrame(data, columns=['user_id', 'tool_id', 'rating'])\n",
        "\n",
        "# Создаем объект Reader для определения формата данных\n",
        "reader = Reader(rating_scale=(1, 5))\n",
        "\n",
        "# Создаем датасет из DataFrame и объекта Reader\n",
        "dataset = Dataset.load_from_df(df[['user_id', 'tool_id', 'rating']], reader)"
      ],
      "metadata": {
        "id": "B6j8I05G2Dyc"
      },
      "execution_count": null,
      "outputs": []
    },
    {
      "cell_type": "markdown",
      "source": [
        "Шаг 3: Разделение данных на обучающий и тестовый наборы\n",
        "Для оценки производительности модели разделим данные на обучающий и тестовый наборы."
      ],
      "metadata": {
        "id": "kpcYAZuG2fZX"
      }
    },
    {
      "cell_type": "code",
      "source": [
        "trainset, testset = train_test_split(dataset, test_size=0.2, random_state=42)\n"
      ],
      "metadata": {
        "id": "fNuITGQ72hSb"
      },
      "execution_count": null,
      "outputs": []
    },
    {
      "cell_type": "markdown",
      "source": [
        "Шаг 4: Создание и обучение модели\n",
        "Теперь создадим модель рекомендательной системы. В этом примере мы используем модель SVD."
      ],
      "metadata": {
        "id": "Zo5IkNyb2kej"
      }
    },
    {
      "cell_type": "code",
      "source": [
        "model = SVD()\n",
        "model.fit(trainset)"
      ],
      "metadata": {
        "colab": {
          "base_uri": "https://localhost:8080/"
        },
        "id": "EOpO4_i62nMK",
        "outputId": "7a844209-1eab-45d4-d072-812f7d3c8d20"
      },
      "execution_count": null,
      "outputs": [
        {
          "output_type": "execute_result",
          "data": {
            "text/plain": [
              "<surprise.prediction_algorithms.matrix_factorization.SVD at 0x7e39e2dcc700>"
            ]
          },
          "metadata": {},
          "execution_count": 6
        }
      ]
    },
    {
      "cell_type": "markdown",
      "source": [
        "Шаг 5: Получение прогнозов и оценка производительности модели\n",
        "Мы получим прогнозы на тестовом наборе и оценим производительность модели."
      ],
      "metadata": {
        "id": "28LeCJaB2qp4"
      }
    },
    {
      "cell_type": "code",
      "source": [
        "predictions = model.test(testset)\n",
        "\n",
        "mae = accuracy.mae(predictions)\n",
        "rmse = accuracy.rmse(predictions)\n",
        "\n",
        "print(f'MAE: {mae}')\n",
        "print(f'RMSE: {rmse}')"
      ],
      "metadata": {
        "colab": {
          "base_uri": "https://localhost:8080/"
        },
        "id": "K18kSSXT2uM8",
        "outputId": "7966c768-85b7-47a4-80d6-f361e9b9eb7a"
      },
      "execution_count": null,
      "outputs": [
        {
          "output_type": "stream",
          "name": "stdout",
          "text": [
            "MAE:  1.2764\n",
            "RMSE: 1.4901\n",
            "MAE: 1.276361705248178\n",
            "RMSE: 1.4901490723653616\n"
          ]
        }
      ]
    },
    {
      "cell_type": "markdown",
      "source": [
        "Шаг 6: Получение рекомендаций для конкретного пользователя\n",
        "Теперь мы можем получить персонализированные рекомендации для конкретного пользователя. Для этого выберем случайного пользователя и получим рекомендации."
      ],
      "metadata": {
        "id": "dDwyMla42ycF"
      }
    },
    {
      "cell_type": "code",
      "source": [
        "# Выбираем случайного пользователя\n",
        "user_id = random.choice(users)\n",
        "\n",
        "# Получаем топ N рекомендаций для пользователя\n",
        "top_n = get_top_n(predictions, n=10)\n",
        "\n",
        "print(f\"Рекомендации инструментов для пользователя {user_id}:\")\n",
        "for tool_id, rating in top_n[user_id]:\n",
        "    print(f\"Инструмент ID: {tool_id}, Рейтинг: {rating}\")\n"
      ],
      "metadata": {
        "colab": {
          "base_uri": "https://localhost:8080/"
        },
        "id": "AnysfdHA22Lh",
        "outputId": "7bf840fb-cfca-43ef-b350-90e363b4c3b8"
      },
      "execution_count": null,
      "outputs": [
        {
          "output_type": "stream",
          "name": "stdout",
          "text": [
            "Рекомендации инструментов для пользователя 41:\n",
            "Инструмент ID: 176, Рейтинг: 3.927402354803331\n",
            "Инструмент ID: 93, Рейтинг: 3.8504482012720964\n",
            "Инструмент ID: 42, Рейтинг: 3.8431308388063705\n",
            "Инструмент ID: 97, Рейтинг: 3.6202412124996144\n",
            "Инструмент ID: 3, Рейтинг: 3.5534935685618363\n",
            "Инструмент ID: 17, Рейтинг: 3.4631409384121725\n",
            "Инструмент ID: 27, Рейтинг: 3.446649325542008\n",
            "Инструмент ID: 200, Рейтинг: 3.430779425417518\n",
            "Инструмент ID: 71, Рейтинг: 3.3918678719428614\n",
            "Инструмент ID: 18, Рейтинг: 3.3876695046020746\n"
          ]
        }
      ]
    },
    {
      "cell_type": "markdown",
      "source": [
        "Шаг 7: Настройка параметров модели (по желанию)\n",
        "Для настройки параметров модели, мы можем использовать методы подбора гиперпараметров, такие как GridSearchCV из scikit-learn."
      ],
      "metadata": {
        "id": "KvkTiE653M1J"
      }
    },
    {
      "cell_type": "code",
      "source": [
        "# Создаем объект модели SVD\n",
        "model = SVD()\n",
        "\n",
        "# Используем GridSearchCV для подбора параметров\n",
        "grid_search = GridSearchCV(SVD,\n",
        "                           param_grid=param_grid,\n",
        "                           measures=['rmse'],\n",
        "                           cv=5)\n",
        "\n",
        "# Выполняем GridSearchCV\n",
        "grid_search.fit(dataset)\n",
        "\n",
        "# Получаем наилучшие параметры\n",
        "best_params = grid_search.best_params['rmse']\n",
        "print(f'Наилучшие параметры: {best_params}')\n",
        "\n",
        "# Создаем объект модели SVD с наилучшими параметрами\n",
        "model = SVD(n_factors=best_params['n_factors'],\n",
        "            n_epochs=best_params['n_epochs'],\n",
        "            lr_all=best_params['lr_all'],\n",
        "            reg_all=best_params['reg_all'])\n",
        "\n",
        "# Обучаем модель с наилучшими параметрами\n",
        "model.fit(trainset)\n",
        "\n",
        "# Делаем предсказания на тестовом наборе\n",
        "predictions = model.test(testset)\n",
        "\n",
        "# Вычисляем показатели производительности\n",
        "mae = accuracy.mae(predictions)\n",
        "rmse = accuracy.rmse(predictions)\n",
        "\n",
        "print(f'MAE: {mae}')\n",
        "print(f'RMSE: {rmse}')\n"
      ],
      "metadata": {
        "colab": {
          "base_uri": "https://localhost:8080/"
        },
        "id": "VBZbzQjR3QO2",
        "outputId": "fc4460db-32f1-4383-d5c0-33b719437df3"
      },
      "execution_count": null,
      "outputs": [
        {
          "output_type": "stream",
          "name": "stdout",
          "text": [
            "Наилучшие параметры: {'n_factors': 200, 'n_epochs': 20, 'lr_all': 0.002, 'reg_all': 0.2}\n",
            "MAE:  1.2260\n",
            "RMSE: 1.4246\n",
            "MAE: 1.2260246412354827\n",
            "RMSE: 1.4246174898717248\n"
          ]
        }
      ]
    },
    {
      "cell_type": "markdown",
      "source": [
        "Шаг 8: Интеграция в магазин\n",
        "Чтобы интегрировать рекомендательную систему в магазин, вы можете создать функцию, которая будет предоставлять рекомендации на основе предпочтений пользователя. Это может быть вызвано на странице пользователя или странице инструмента."
      ],
      "metadata": {
        "id": "e6uQLCWoBATR"
      }
    },
    {
      "cell_type": "code",
      "source": [
        "def get_top_n(predictions, user_id, n=10):\n",
        "    \"\"\"Получение топ-N рекомендаций для пользователя\"\"\"\n",
        "    top_n = defaultdict(list)\n",
        "    for uid, iid, _, est, _ in predictions:\n",
        "        if uid == user_id:\n",
        "            top_n[uid].append((iid, est))\n",
        "\n",
        "    for uid, user_ratings in top_n.items():\n",
        "        user_ratings.sort(key=lambda x: x[1], reverse=True)\n",
        "        top_n[uid] = user_ratings[:n]\n",
        "\n",
        "    return top_n[user_id]\n",
        "\n",
        "# Использование функции в магазине\n",
        "user_id = '42'\n",
        "recommended_toolss = get_top_n(predictions, user_id)\n"
      ],
      "metadata": {
        "id": "Gfo3rN-a3b06"
      },
      "execution_count": null,
      "outputs": []
    }
  ]
}